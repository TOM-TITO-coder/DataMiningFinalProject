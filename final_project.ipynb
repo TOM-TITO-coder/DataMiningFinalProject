{
 "cells": [
  {
   "cell_type": "markdown",
   "metadata": {},
   "source": [
    "### GROUP 07\n",
    "1. TOM TITO\n",
    "2. LIM TECHCHHIV\n",
    "3. VUTHY CHEANGSRUN\n",
    "4. LEANG KIMLONG\n",
    "5. MOURN SUNRA"
   ]
  },
  {
   "cell_type": "markdown",
   "metadata": {},
   "source": [
    "## TITLE: Electricity Price Prediction"
   ]
  },
  {
   "cell_type": "code",
   "execution_count": null,
   "metadata": {
    "vscode": {
     "languageId": "plaintext"
    }
   },
   "outputs": [],
   "source": []
  }
 ],
 "metadata": {
  "language_info": {
   "name": "python"
  }
 },
 "nbformat": 4,
 "nbformat_minor": 2
}
